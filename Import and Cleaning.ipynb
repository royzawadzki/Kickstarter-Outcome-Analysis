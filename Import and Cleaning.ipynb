{
 "cells": [
  {
   "cell_type": "markdown",
   "metadata": {},
   "source": [
    "# Imports"
   ]
  },
  {
   "cell_type": "code",
   "execution_count": 5,
   "metadata": {},
   "outputs": [],
   "source": [
    "import pandas as pd\n",
    "import numpy as np\n",
    "from numpy import dtype\n",
    "import datetime\n",
    "import matplotlib.pyplot as plt\n",
    "%matplotlib inline"
   ]
  },
  {
   "cell_type": "markdown",
   "metadata": {},
   "source": [
    "# Reading in the Data"
   ]
  },
  {
   "cell_type": "code",
   "execution_count": 42,
   "metadata": {},
   "outputs": [],
   "source": [
    "kickstarter = pd.read_csv(\"/data/royzawadzki/kemical/kickstarter-projects/ks-projects-201801.csv\", encoding = \"latin1\", usecols = np.arange(0,13), parse_dates = [5,7])                      "
   ]
  },
  {
   "cell_type": "code",
   "execution_count": 43,
   "metadata": {},
   "outputs": [
    {
     "data": {
      "text/html": [
       "<div>\n",
       "<style scoped>\n",
       "    .dataframe tbody tr th:only-of-type {\n",
       "        vertical-align: middle;\n",
       "    }\n",
       "\n",
       "    .dataframe tbody tr th {\n",
       "        vertical-align: top;\n",
       "    }\n",
       "\n",
       "    .dataframe thead th {\n",
       "        text-align: right;\n",
       "    }\n",
       "</style>\n",
       "<table border=\"1\" class=\"dataframe\">\n",
       "  <thead>\n",
       "    <tr style=\"text-align: right;\">\n",
       "      <th></th>\n",
       "      <th>ID</th>\n",
       "      <th>name</th>\n",
       "      <th>category</th>\n",
       "      <th>main_category</th>\n",
       "      <th>currency</th>\n",
       "      <th>deadline</th>\n",
       "      <th>goal</th>\n",
       "      <th>launched</th>\n",
       "      <th>pledged</th>\n",
       "      <th>state</th>\n",
       "      <th>backers</th>\n",
       "      <th>country</th>\n",
       "      <th>usd pledged</th>\n",
       "    </tr>\n",
       "  </thead>\n",
       "  <tbody>\n",
       "    <tr>\n",
       "      <th>0</th>\n",
       "      <td>1000002330</td>\n",
       "      <td>The Songs of Adelaide &amp; Abullah</td>\n",
       "      <td>Poetry</td>\n",
       "      <td>Publishing</td>\n",
       "      <td>GBP</td>\n",
       "      <td>2015-10-09</td>\n",
       "      <td>1000.0</td>\n",
       "      <td>2015-08-11 12:12:28</td>\n",
       "      <td>0.0</td>\n",
       "      <td>failed</td>\n",
       "      <td>0</td>\n",
       "      <td>GB</td>\n",
       "      <td>0.0</td>\n",
       "    </tr>\n",
       "    <tr>\n",
       "      <th>1</th>\n",
       "      <td>1000003930</td>\n",
       "      <td>Greeting From Earth: ZGAC Arts Capsule For ET</td>\n",
       "      <td>Narrative Film</td>\n",
       "      <td>Film &amp; Video</td>\n",
       "      <td>USD</td>\n",
       "      <td>2017-11-01</td>\n",
       "      <td>30000.0</td>\n",
       "      <td>2017-09-02 04:43:57</td>\n",
       "      <td>2421.0</td>\n",
       "      <td>failed</td>\n",
       "      <td>15</td>\n",
       "      <td>US</td>\n",
       "      <td>100.0</td>\n",
       "    </tr>\n",
       "    <tr>\n",
       "      <th>2</th>\n",
       "      <td>1000004038</td>\n",
       "      <td>Where is Hank?</td>\n",
       "      <td>Narrative Film</td>\n",
       "      <td>Film &amp; Video</td>\n",
       "      <td>USD</td>\n",
       "      <td>2013-02-26</td>\n",
       "      <td>45000.0</td>\n",
       "      <td>2013-01-12 00:20:50</td>\n",
       "      <td>220.0</td>\n",
       "      <td>failed</td>\n",
       "      <td>3</td>\n",
       "      <td>US</td>\n",
       "      <td>220.0</td>\n",
       "    </tr>\n",
       "    <tr>\n",
       "      <th>3</th>\n",
       "      <td>1000007540</td>\n",
       "      <td>ToshiCapital Rekordz Needs Help to Complete Album</td>\n",
       "      <td>Music</td>\n",
       "      <td>Music</td>\n",
       "      <td>USD</td>\n",
       "      <td>2012-04-16</td>\n",
       "      <td>5000.0</td>\n",
       "      <td>2012-03-17 03:24:11</td>\n",
       "      <td>1.0</td>\n",
       "      <td>failed</td>\n",
       "      <td>1</td>\n",
       "      <td>US</td>\n",
       "      <td>1.0</td>\n",
       "    </tr>\n",
       "    <tr>\n",
       "      <th>4</th>\n",
       "      <td>1000011046</td>\n",
       "      <td>Community Film Project: The Art of Neighborhoo...</td>\n",
       "      <td>Film &amp; Video</td>\n",
       "      <td>Film &amp; Video</td>\n",
       "      <td>USD</td>\n",
       "      <td>2015-08-29</td>\n",
       "      <td>19500.0</td>\n",
       "      <td>2015-07-04 08:35:03</td>\n",
       "      <td>1283.0</td>\n",
       "      <td>canceled</td>\n",
       "      <td>14</td>\n",
       "      <td>US</td>\n",
       "      <td>1283.0</td>\n",
       "    </tr>\n",
       "  </tbody>\n",
       "</table>\n",
       "</div>"
      ],
      "text/plain": [
       "           ID                                               name  \\\n",
       "0  1000002330                    The Songs of Adelaide & Abullah   \n",
       "1  1000003930      Greeting From Earth: ZGAC Arts Capsule For ET   \n",
       "2  1000004038                                     Where is Hank?   \n",
       "3  1000007540  ToshiCapital Rekordz Needs Help to Complete Album   \n",
       "4  1000011046  Community Film Project: The Art of Neighborhoo...   \n",
       "\n",
       "         category main_category currency   deadline     goal  \\\n",
       "0          Poetry    Publishing      GBP 2015-10-09   1000.0   \n",
       "1  Narrative Film  Film & Video      USD 2017-11-01  30000.0   \n",
       "2  Narrative Film  Film & Video      USD 2013-02-26  45000.0   \n",
       "3           Music         Music      USD 2012-04-16   5000.0   \n",
       "4    Film & Video  Film & Video      USD 2015-08-29  19500.0   \n",
       "\n",
       "             launched  pledged     state  backers country  usd pledged  \n",
       "0 2015-08-11 12:12:28      0.0    failed        0      GB          0.0  \n",
       "1 2017-09-02 04:43:57   2421.0    failed       15      US        100.0  \n",
       "2 2013-01-12 00:20:50    220.0    failed        3      US        220.0  \n",
       "3 2012-03-17 03:24:11      1.0    failed        1      US          1.0  \n",
       "4 2015-07-04 08:35:03   1283.0  canceled       14      US       1283.0  "
      ]
     },
     "execution_count": 43,
     "metadata": {},
     "output_type": "execute_result"
    }
   ],
   "source": [
    "kickstarter.head()"
   ]
  },
  {
   "cell_type": "code",
   "execution_count": 44,
   "metadata": {},
   "outputs": [],
   "source": [
    "assert len(kickstarter) == 378661\n",
    "assert len(kickstarter.columns)== 13\n",
    "assert list(kickstarter.columns) == [\"ID\", \"name\", \"category\", \"main_category\", \n",
    "                                     \"currency\", \"deadline\", \"goal\", \"launched\", \"pledged\", \n",
    "                                     \"state\", \"backers\", \"country\", \"usd pledged\"]\n",
    "assert dict(kickstarter.dtypes) == {'ID': dtype('int64'),\n",
    "                                     'backers': dtype('int64'),\n",
    "                                     'category': dtype('O'),\n",
    "                                     'country': dtype('O'),\n",
    "                                     'currency': dtype('O'),\n",
    "                                     'deadline': dtype('<M8[ns]'),\n",
    "                                     'goal': dtype('float64'),\n",
    "                                     'launched': dtype('<M8[ns]'),\n",
    "                                     'main_category': dtype('O'),\n",
    "                                     'name': dtype('O'),\n",
    "                                     'pledged': dtype('float64'),\n",
    "                                     'state': dtype('O'),\n",
    "                                     'usd pledged': dtype('float64')}"
   ]
  },
  {
   "cell_type": "markdown",
   "metadata": {},
   "source": [
    "# Cleaning up the Data Set"
   ]
  },
  {
   "cell_type": "code",
   "execution_count": 45,
   "metadata": {},
   "outputs": [
    {
     "data": {
      "text/plain": [
       "ID                  0\n",
       "name                4\n",
       "category            0\n",
       "main_category       0\n",
       "currency            0\n",
       "deadline            0\n",
       "goal                0\n",
       "launched            0\n",
       "pledged             0\n",
       "state               0\n",
       "backers             0\n",
       "country             0\n",
       "usd pledged      3797\n",
       "dtype: int64"
      ]
     },
     "execution_count": 45,
     "metadata": {},
     "output_type": "execute_result"
    }
   ],
   "source": [
    "kickstarter.isnull().sum()    "
   ]
  },
  {
   "cell_type": "code",
   "execution_count": 46,
   "metadata": {},
   "outputs": [
    {
     "data": {
      "text/html": [
       "<div>\n",
       "<style scoped>\n",
       "    .dataframe tbody tr th:only-of-type {\n",
       "        vertical-align: middle;\n",
       "    }\n",
       "\n",
       "    .dataframe tbody tr th {\n",
       "        vertical-align: top;\n",
       "    }\n",
       "\n",
       "    .dataframe thead th {\n",
       "        text-align: right;\n",
       "    }\n",
       "</style>\n",
       "<table border=\"1\" class=\"dataframe\">\n",
       "  <thead>\n",
       "    <tr style=\"text-align: right;\">\n",
       "      <th></th>\n",
       "      <th>ID</th>\n",
       "      <th>name</th>\n",
       "      <th>category</th>\n",
       "      <th>main_category</th>\n",
       "      <th>currency</th>\n",
       "      <th>deadline</th>\n",
       "      <th>goal</th>\n",
       "      <th>launched</th>\n",
       "      <th>pledged</th>\n",
       "      <th>state</th>\n",
       "      <th>backers</th>\n",
       "      <th>country</th>\n",
       "      <th>usd pledged</th>\n",
       "    </tr>\n",
       "  </thead>\n",
       "  <tbody>\n",
       "    <tr>\n",
       "      <th>169</th>\n",
       "      <td>1000694855</td>\n",
       "      <td>STREETFIGHTERZ WHEELIE MURICA</td>\n",
       "      <td>Film &amp; Video</td>\n",
       "      <td>Film &amp; Video</td>\n",
       "      <td>USD</td>\n",
       "      <td>2014-09-20</td>\n",
       "      <td>6500.0</td>\n",
       "      <td>2014-08-06 21:28:36</td>\n",
       "      <td>555.00</td>\n",
       "      <td>undefined</td>\n",
       "      <td>0</td>\n",
       "      <td>N,0\"</td>\n",
       "      <td>NaN</td>\n",
       "    </tr>\n",
       "    <tr>\n",
       "      <th>328</th>\n",
       "      <td>100149523</td>\n",
       "      <td>Duncan Woods - Chameleon EP</td>\n",
       "      <td>Music</td>\n",
       "      <td>Music</td>\n",
       "      <td>AUD</td>\n",
       "      <td>2015-08-25</td>\n",
       "      <td>4500.0</td>\n",
       "      <td>2015-08-04 12:05:17</td>\n",
       "      <td>4767.00</td>\n",
       "      <td>undefined</td>\n",
       "      <td>0</td>\n",
       "      <td>N,0\"</td>\n",
       "      <td>NaN</td>\n",
       "    </tr>\n",
       "    <tr>\n",
       "      <th>632</th>\n",
       "      <td>1003023003</td>\n",
       "      <td>The Making of Ashley Kelley's Debut Album</td>\n",
       "      <td>Music</td>\n",
       "      <td>Music</td>\n",
       "      <td>USD</td>\n",
       "      <td>2015-04-09</td>\n",
       "      <td>3500.0</td>\n",
       "      <td>2015-03-10 20:06:13</td>\n",
       "      <td>3576.00</td>\n",
       "      <td>undefined</td>\n",
       "      <td>0</td>\n",
       "      <td>N,0\"</td>\n",
       "      <td>NaN</td>\n",
       "    </tr>\n",
       "    <tr>\n",
       "      <th>647</th>\n",
       "      <td>1003130892</td>\n",
       "      <td>Butter Side Down Debut Album</td>\n",
       "      <td>Music</td>\n",
       "      <td>Music</td>\n",
       "      <td>USD</td>\n",
       "      <td>2015-11-26</td>\n",
       "      <td>6000.0</td>\n",
       "      <td>2015-11-02 22:09:19</td>\n",
       "      <td>7007.80</td>\n",
       "      <td>undefined</td>\n",
       "      <td>0</td>\n",
       "      <td>N,0\"</td>\n",
       "      <td>NaN</td>\n",
       "    </tr>\n",
       "    <tr>\n",
       "      <th>749</th>\n",
       "      <td>1003629045</td>\n",
       "      <td>Chase Goehring debut EP</td>\n",
       "      <td>Music</td>\n",
       "      <td>Music</td>\n",
       "      <td>USD</td>\n",
       "      <td>2016-03-21</td>\n",
       "      <td>3000.0</td>\n",
       "      <td>2016-02-23 03:09:49</td>\n",
       "      <td>3660.38</td>\n",
       "      <td>undefined</td>\n",
       "      <td>0</td>\n",
       "      <td>N,0\"</td>\n",
       "      <td>NaN</td>\n",
       "    </tr>\n",
       "    <tr>\n",
       "      <th>824</th>\n",
       "      <td>1004013077</td>\n",
       "      <td>Spencer Capier Instrumental Project 2015</td>\n",
       "      <td>Music</td>\n",
       "      <td>Music</td>\n",
       "      <td>CAD</td>\n",
       "      <td>2014-10-10</td>\n",
       "      <td>4000.0</td>\n",
       "      <td>2014-09-10 22:51:01</td>\n",
       "      <td>4760.00</td>\n",
       "      <td>undefined</td>\n",
       "      <td>0</td>\n",
       "      <td>N,0\"</td>\n",
       "      <td>NaN</td>\n",
       "    </tr>\n",
       "    <tr>\n",
       "      <th>844</th>\n",
       "      <td>1004126342</td>\n",
       "      <td>LUKAS LIGETI'S 50TH BIRTHDAY FESTIVAL: ORIGINA...</td>\n",
       "      <td>Music</td>\n",
       "      <td>Music</td>\n",
       "      <td>USD</td>\n",
       "      <td>2015-06-11</td>\n",
       "      <td>5000.0</td>\n",
       "      <td>2015-05-15 02:12:35</td>\n",
       "      <td>6370.00</td>\n",
       "      <td>undefined</td>\n",
       "      <td>0</td>\n",
       "      <td>N,0\"</td>\n",
       "      <td>NaN</td>\n",
       "    </tr>\n",
       "    <tr>\n",
       "      <th>864</th>\n",
       "      <td>1004255433</td>\n",
       "      <td>The Battle For Breukelen: A Neighborhood Epic</td>\n",
       "      <td>Film &amp; Video</td>\n",
       "      <td>Film &amp; Video</td>\n",
       "      <td>USD</td>\n",
       "      <td>2015-11-07</td>\n",
       "      <td>6000.0</td>\n",
       "      <td>2015-10-10 18:45:24</td>\n",
       "      <td>6695.00</td>\n",
       "      <td>undefined</td>\n",
       "      <td>0</td>\n",
       "      <td>N,0\"</td>\n",
       "      <td>NaN</td>\n",
       "    </tr>\n",
       "    <tr>\n",
       "      <th>870</th>\n",
       "      <td>1004298993</td>\n",
       "      <td>\"Tamboura Plays Violin\" - a collection of Pop ...</td>\n",
       "      <td>Music</td>\n",
       "      <td>Music</td>\n",
       "      <td>USD</td>\n",
       "      <td>2015-03-28</td>\n",
       "      <td>2750.0</td>\n",
       "      <td>2015-02-11 19:28:27</td>\n",
       "      <td>2926.00</td>\n",
       "      <td>undefined</td>\n",
       "      <td>0</td>\n",
       "      <td>N,0\"</td>\n",
       "      <td>NaN</td>\n",
       "    </tr>\n",
       "    <tr>\n",
       "      <th>890</th>\n",
       "      <td>1004402863</td>\n",
       "      <td>Nightingale Noel - An A Cappella Holiday CD</td>\n",
       "      <td>Music</td>\n",
       "      <td>Music</td>\n",
       "      <td>USD</td>\n",
       "      <td>2015-12-11</td>\n",
       "      <td>1200.0</td>\n",
       "      <td>2015-11-11 21:02:55</td>\n",
       "      <td>1585.00</td>\n",
       "      <td>undefined</td>\n",
       "      <td>0</td>\n",
       "      <td>N,0\"</td>\n",
       "      <td>NaN</td>\n",
       "    </tr>\n",
       "  </tbody>\n",
       "</table>\n",
       "</div>"
      ],
      "text/plain": [
       "             ID                                               name  \\\n",
       "169  1000694855                      STREETFIGHTERZ WHEELIE MURICA   \n",
       "328   100149523                        Duncan Woods - Chameleon EP   \n",
       "632  1003023003          The Making of Ashley Kelley's Debut Album   \n",
       "647  1003130892                       Butter Side Down Debut Album   \n",
       "749  1003629045                            Chase Goehring debut EP   \n",
       "824  1004013077           Spencer Capier Instrumental Project 2015   \n",
       "844  1004126342  LUKAS LIGETI'S 50TH BIRTHDAY FESTIVAL: ORIGINA...   \n",
       "864  1004255433      The Battle For Breukelen: A Neighborhood Epic   \n",
       "870  1004298993  \"Tamboura Plays Violin\" - a collection of Pop ...   \n",
       "890  1004402863        Nightingale Noel - An A Cappella Holiday CD   \n",
       "\n",
       "         category main_category currency   deadline    goal  \\\n",
       "169  Film & Video  Film & Video      USD 2014-09-20  6500.0   \n",
       "328         Music         Music      AUD 2015-08-25  4500.0   \n",
       "632         Music         Music      USD 2015-04-09  3500.0   \n",
       "647         Music         Music      USD 2015-11-26  6000.0   \n",
       "749         Music         Music      USD 2016-03-21  3000.0   \n",
       "824         Music         Music      CAD 2014-10-10  4000.0   \n",
       "844         Music         Music      USD 2015-06-11  5000.0   \n",
       "864  Film & Video  Film & Video      USD 2015-11-07  6000.0   \n",
       "870         Music         Music      USD 2015-03-28  2750.0   \n",
       "890         Music         Music      USD 2015-12-11  1200.0   \n",
       "\n",
       "               launched  pledged      state  backers country  usd pledged  \n",
       "169 2014-08-06 21:28:36   555.00  undefined        0    N,0\"          NaN  \n",
       "328 2015-08-04 12:05:17  4767.00  undefined        0    N,0\"          NaN  \n",
       "632 2015-03-10 20:06:13  3576.00  undefined        0    N,0\"          NaN  \n",
       "647 2015-11-02 22:09:19  7007.80  undefined        0    N,0\"          NaN  \n",
       "749 2016-02-23 03:09:49  3660.38  undefined        0    N,0\"          NaN  \n",
       "824 2014-09-10 22:51:01  4760.00  undefined        0    N,0\"          NaN  \n",
       "844 2015-05-15 02:12:35  6370.00  undefined        0    N,0\"          NaN  \n",
       "864 2015-10-10 18:45:24  6695.00  undefined        0    N,0\"          NaN  \n",
       "870 2015-02-11 19:28:27  2926.00  undefined        0    N,0\"          NaN  \n",
       "890 2015-11-11 21:02:55  1585.00  undefined        0    N,0\"          NaN  "
      ]
     },
     "execution_count": 46,
     "metadata": {},
     "output_type": "execute_result"
    }
   ],
   "source": [
    "kickstarter[kickstarter[\"usd pledged\"].isnull()][0:10]"
   ]
  },
  {
   "cell_type": "code",
   "execution_count": 47,
   "metadata": {},
   "outputs": [
    {
     "data": {
      "text/plain": [
       "array(['GB', 'US', 'CA', 'AU', 'NO', 'IT', 'DE', 'IE', 'MX', 'ES', 'N,0\"',\n",
       "       'SE', 'FR', 'NL', 'NZ', 'CH', 'AT', 'DK', 'BE', 'HK', 'LU', 'SG',\n",
       "       'JP'], dtype=object)"
      ]
     },
     "execution_count": 47,
     "metadata": {},
     "output_type": "execute_result"
    }
   ],
   "source": [
    "kickstarter[\"country\"].unique()"
   ]
  },
  {
   "cell_type": "markdown",
   "metadata": {},
   "source": [
    "Surprisingly, the data set does not have a lot of missing values which a great thing. However, we do have some missing values for usd pledged. The plan was to possibly use a currency conversion to take the amount pledged (which has no missing values) and fill in the USD pledged based using a simple arithmetic operation. The issue here is that, as seen above, there are also missing values for countries in the form `N,0\"` which means that we cannot leverage the country in which the kickstarter was created to convert currencies. All of this considered, I have decided to drop all rows that had a value of `NaN` in the `usd_pledged` column. In reality, this does not have a huge bearing for the success of our models because we are losing 3797 rows from a total of 378661 rows."
   ]
  },
  {
   "cell_type": "code",
   "execution_count": 48,
   "metadata": {},
   "outputs": [
    {
     "data": {
      "text/plain": [
       "array(['GB', 'US', 'CA', 'AU', 'NO', 'IT', 'DE', 'IE', 'MX', 'ES', 'SE',\n",
       "       'FR', 'NL', 'NZ', 'CH', 'AT', 'DK', 'BE', 'HK', 'LU', 'SG', 'JP'],\n",
       "      dtype=object)"
      ]
     },
     "execution_count": 48,
     "metadata": {},
     "output_type": "execute_result"
    }
   ],
   "source": [
    "kickstarter = kickstarter[kickstarter[\"usd pledged\"].notnull()]\n",
    "assert not kickstarter[\"usd pledged\"].isnull().values.any()\n",
    "kickstarter[\"country\"].unique()"
   ]
  },
  {
   "cell_type": "markdown",
   "metadata": {},
   "source": [
    "Interestingly enough, our issue with having a country value that was listed as `N,0\"` has also been ameliorated."
   ]
  },
  {
   "cell_type": "code",
   "execution_count": 49,
   "metadata": {},
   "outputs": [
    {
     "data": {
      "text/plain": [
       "array(['failed', 'canceled', 'successful', 'live', 'suspended'],\n",
       "      dtype=object)"
      ]
     },
     "execution_count": 49,
     "metadata": {},
     "output_type": "execute_result"
    }
   ],
   "source": [
    "kickstarter[\"state\"].unique()"
   ]
  },
  {
   "cell_type": "markdown",
   "metadata": {},
   "source": [
    "Since we will want to look at whether the kickstarter was successful or not, for the purposes of training our model, we will have to only include observations in which the outcome was `succesful` or `failed`."
   ]
  },
  {
   "cell_type": "code",
   "execution_count": 50,
   "metadata": {},
   "outputs": [
    {
     "name": "stdout",
     "output_type": "stream",
     "text": [
      "Shape before: (374864, 13); Shape After: (331465, 13)\n"
     ]
    }
   ],
   "source": [
    "before_filter = kickstarter.shape\n",
    "kickstarter = kickstarter[(kickstarter[\"state\"] == \"successful\") | (kickstarter[\"state\"] == \"failed\")]\n",
    "assert list(kickstarter[\"state\"].unique()) == [\"failed\", \"successful\"]\n",
    "after_filter = kickstarter.shape\n",
    "print(\"Shape before: {0}; Shape After: {1}\".format(before_filter, after_filter))"
   ]
  },
  {
   "cell_type": "markdown",
   "metadata": {},
   "source": [
    "Only around 40,000 rows were lost due to not falling under the state of success or failure. This bodes well for our analysis because we aren't losing too much information about the other columns due to the state the kickstarter was in when data collection occured."
   ]
  },
  {
   "cell_type": "markdown",
   "metadata": {},
   "source": [
    "### Dealing with Outliers"
   ]
  },
  {
   "cell_type": "code",
   "execution_count": 51,
   "metadata": {},
   "outputs": [
    {
     "data": {
      "text/html": [
       "<div>\n",
       "<style scoped>\n",
       "    .dataframe tbody tr th:only-of-type {\n",
       "        vertical-align: middle;\n",
       "    }\n",
       "\n",
       "    .dataframe tbody tr th {\n",
       "        vertical-align: top;\n",
       "    }\n",
       "\n",
       "    .dataframe thead th {\n",
       "        text-align: right;\n",
       "    }\n",
       "</style>\n",
       "<table border=\"1\" class=\"dataframe\">\n",
       "  <thead>\n",
       "    <tr style=\"text-align: right;\">\n",
       "      <th></th>\n",
       "      <th>goal</th>\n",
       "      <th>backers</th>\n",
       "      <th>usd pledged</th>\n",
       "    </tr>\n",
       "  </thead>\n",
       "  <tbody>\n",
       "    <tr>\n",
       "      <th>count</th>\n",
       "      <td>3.314650e+05</td>\n",
       "      <td>331465.000000</td>\n",
       "      <td>3.314650e+05</td>\n",
       "    </tr>\n",
       "    <tr>\n",
       "      <th>mean</th>\n",
       "      <td>4.426614e+04</td>\n",
       "      <td>116.455315</td>\n",
       "      <td>7.684569e+03</td>\n",
       "    </tr>\n",
       "    <tr>\n",
       "      <th>std</th>\n",
       "      <td>1.118264e+06</td>\n",
       "      <td>965.728598</td>\n",
       "      <td>8.320938e+04</td>\n",
       "    </tr>\n",
       "    <tr>\n",
       "      <th>min</th>\n",
       "      <td>1.000000e-02</td>\n",
       "      <td>0.000000</td>\n",
       "      <td>0.000000e+00</td>\n",
       "    </tr>\n",
       "    <tr>\n",
       "      <th>25%</th>\n",
       "      <td>2.000000e+03</td>\n",
       "      <td>2.000000</td>\n",
       "      <td>2.500000e+01</td>\n",
       "    </tr>\n",
       "    <tr>\n",
       "      <th>50%</th>\n",
       "      <td>5.000000e+03</td>\n",
       "      <td>15.000000</td>\n",
       "      <td>5.020000e+02</td>\n",
       "    </tr>\n",
       "    <tr>\n",
       "      <th>75%</th>\n",
       "      <td>1.500000e+04</td>\n",
       "      <td>63.000000</td>\n",
       "      <td>3.421000e+03</td>\n",
       "    </tr>\n",
       "    <tr>\n",
       "      <th>max</th>\n",
       "      <td>1.000000e+08</td>\n",
       "      <td>219382.000000</td>\n",
       "      <td>2.033899e+07</td>\n",
       "    </tr>\n",
       "  </tbody>\n",
       "</table>\n",
       "</div>"
      ],
      "text/plain": [
       "               goal        backers   usd pledged\n",
       "count  3.314650e+05  331465.000000  3.314650e+05\n",
       "mean   4.426614e+04     116.455315  7.684569e+03\n",
       "std    1.118264e+06     965.728598  8.320938e+04\n",
       "min    1.000000e-02       0.000000  0.000000e+00\n",
       "25%    2.000000e+03       2.000000  2.500000e+01\n",
       "50%    5.000000e+03      15.000000  5.020000e+02\n",
       "75%    1.500000e+04      63.000000  3.421000e+03\n",
       "max    1.000000e+08  219382.000000  2.033899e+07"
      ]
     },
     "execution_count": 51,
     "metadata": {},
     "output_type": "execute_result"
    }
   ],
   "source": [
    "kickstarter.describe().drop([\"ID\", \"pledged\"], axis = 1)"
   ]
  },
  {
   "cell_type": "code",
   "execution_count": 52,
   "metadata": {},
   "outputs": [
    {
     "data": {
      "image/png": "[encoded data removed]",
      "text/plain": [
       "<matplotlib.figure.Figure at 0x7fa2da97eb00>"
      ]
     },
     "metadata": {},
     "output_type": "display_data"
    }
   ],
   "source": [
    "plt.subplot(1,3,1)\n",
    "plt.hist(\"goal\", data = kickstarter)\n",
    "plt.title(\"Goal\")\n",
    "plt.subplot(1,3,2)\n",
    "plt.hist(\"backers\", data = kickstarter)\n",
    "plt.title(\"Backers\")\n",
    "plt.subplot(1,3,3)\n",
    "plt.hist(\"usd pledged\", data = kickstarter)\n",
    "plt.title(\"USD pledged\")\n",
    "plt.tight_layout()"
   ]
  },
  {
   "cell_type": "markdown",
   "metadata": {},
   "source": [
    "As demonstrated by the statistics and the histograms, we have some massive outliers in `goal`, `usd pledged`, and `backers` that are inflating the standard deviation and skewing the mean to the right of the distribution. This is a big problem in both feeding our data to our model and analyzing the data. To mitigate the issue a log transformation for all three of these columns would be appropriate, given how skewed to the right the distribution is. We will have to filter out observations in `backers` and `usd pledged` that are zero or else negitive infinity will show up for values that were zero before transforming. Without doing this step we wouldn't be able to visualize or see certain statistics of the distribution such as the mean."
   ]
  },
  {
   "cell_type": "code",
   "execution_count": 53,
   "metadata": {},
   "outputs": [],
   "source": [
    "kickstarter = kickstarter[(kickstarter[\"usd pledged\"] > 0) & (kickstarter[\"backers\"] > 0)]\n",
    "\n",
    "kickstarter[\"goal_log\"] = kickstarter[\"goal\"].apply(np.log)\n",
    "kickstarter[\"backers_log\"] = kickstarter[\"backers\"].apply(np.log)\n",
    "kickstarter[\"usd pledged_log\"] = kickstarter[\"usd pledged\"].apply(np.log)\n",
    "assert len(kickstarter[(kickstarter[\"usd pledged_log\"] == np.inf) \n",
    "                       & (kickstarter[\"backers\"] == np.inf)]) == 0"
   ]
  },
  {
   "cell_type": "code",
   "execution_count": 55,
   "metadata": {},
   "outputs": [
    {
     "data": {
      "text/html": [
       "<div>\n",
       "<style scoped>\n",
       "    .dataframe tbody tr th:only-of-type {\n",
       "        vertical-align: middle;\n",
       "    }\n",
       "\n",
       "    .dataframe tbody tr th {\n",
       "        vertical-align: top;\n",
       "    }\n",
       "\n",
       "    .dataframe thead th {\n",
       "        text-align: right;\n",
       "    }\n",
       "</style>\n",
       "<table border=\"1\" class=\"dataframe\">\n",
       "  <thead>\n",
       "    <tr style=\"text-align: right;\">\n",
       "      <th></th>\n",
       "      <th>goal_log</th>\n",
       "      <th>backers_log</th>\n",
       "      <th>usd pledged_log</th>\n",
       "    </tr>\n",
       "  </thead>\n",
       "  <tbody>\n",
       "    <tr>\n",
       "      <th>count</th>\n",
       "      <td>277905.000000</td>\n",
       "      <td>277905.000000</td>\n",
       "      <td>277905.000000</td>\n",
       "    </tr>\n",
       "    <tr>\n",
       "      <th>mean</th>\n",
       "      <td>8.574509</td>\n",
       "      <td>3.080740</td>\n",
       "      <td>6.583117</td>\n",
       "    </tr>\n",
       "    <tr>\n",
       "      <th>std</th>\n",
       "      <td>1.648113</td>\n",
       "      <td>1.848811</td>\n",
       "      <td>2.556202</td>\n",
       "    </tr>\n",
       "    <tr>\n",
       "      <th>min</th>\n",
       "      <td>-4.605170</td>\n",
       "      <td>0.000000</td>\n",
       "      <td>-0.755023</td>\n",
       "    </tr>\n",
       "    <tr>\n",
       "      <th>25%</th>\n",
       "      <td>7.600902</td>\n",
       "      <td>1.609438</td>\n",
       "      <td>4.874510</td>\n",
       "    </tr>\n",
       "    <tr>\n",
       "      <th>50%</th>\n",
       "      <td>8.517193</td>\n",
       "      <td>3.178054</td>\n",
       "      <td>6.908755</td>\n",
       "    </tr>\n",
       "    <tr>\n",
       "      <th>75%</th>\n",
       "      <td>9.615805</td>\n",
       "      <td>4.369448</td>\n",
       "      <td>8.446365</td>\n",
       "    </tr>\n",
       "    <tr>\n",
       "      <th>max</th>\n",
       "      <td>18.420681</td>\n",
       "      <td>12.298570</td>\n",
       "      <td>16.828050</td>\n",
       "    </tr>\n",
       "  </tbody>\n",
       "</table>\n",
       "</div>"
      ],
      "text/plain": [
       "            goal_log    backers_log  usd pledged_log\n",
       "count  277905.000000  277905.000000    277905.000000\n",
       "mean        8.574509       3.080740         6.583117\n",
       "std         1.648113       1.848811         2.556202\n",
       "min        -4.605170       0.000000        -0.755023\n",
       "25%         7.600902       1.609438         4.874510\n",
       "50%         8.517193       3.178054         6.908755\n",
       "75%         9.615805       4.369448         8.446365\n",
       "max        18.420681      12.298570        16.828050"
      ]
     },
     "execution_count": 55,
     "metadata": {},
     "output_type": "execute_result"
    }
   ],
   "source": [
    "kickstarter.describe()[[\"goal_log\", \"backers_log\", \"usd pledged_log\"]]"
   ]
  },
  {
   "cell_type": "code",
   "execution_count": 56,
   "metadata": {},
   "outputs": [
    {
     "data": {
      "image/png": "[encoded data removed]",
      "text/plain": [
       "<matplotlib.figure.Figure at 0x7fa2da42a8d0>"
      ]
     },
     "metadata": {},
     "output_type": "display_data"
    }
   ],
   "source": [
    "plt.subplot(1,3,1)\n",
    "plt.hist(\"goal_log\", data = kickstarter)\n",
    "plt.title(\"Log Goal\")\n",
    "plt.subplot(1,3,2)\n",
    "plt.hist(\"backers_log\", data = kickstarter)\n",
    "plt.title(\"Log Backers\")\n",
    "plt.subplot(1,3,3)\n",
    "plt.hist(\"usd pledged_log\", data = kickstarter)\n",
    "plt.title(\"Log USD pledged\")\n",
    "plt.tight_layout()"
   ]
  },
  {
   "cell_type": "markdown",
   "metadata": {},
   "source": [
    "After our log transformation using the numpy default, the natural log, oour distributions and statistics look much better. Furthermore, we only lost 60,000 observations and information in our model regarding when backers and money raised is 0, which is not too bad of a trade off for not skewed distributions. That being said, we are losing infomration about kickstarters that finish with no backers and no money raised."
   ]
  },
  {
   "cell_type": "markdown",
   "metadata": {},
   "source": [
    "# Creation of New Columns"
   ]
  },
  {
   "cell_type": "markdown",
   "metadata": {},
   "source": [
    "Next, we want to get the column `launched` and `deadline` to the same format so we can compute a new column `length` which measures how long the kickstarter lasted for in days."
   ]
  },
  {
   "cell_type": "code",
   "execution_count": 57,
   "metadata": {},
   "outputs": [],
   "source": [
    "kickstarter[\"duration\"] = (kickstarter[\"deadline\"] - kickstarter[\"launched\"])\n",
    "kickstarter[\"duration\"] = kickstarter[\"duration\"].apply(lambda x: x.days)\n",
    "assert kickstarter.duration.dtype == np.int64"
   ]
  },
  {
   "cell_type": "markdown",
   "metadata": {},
   "source": [
    "We want to investigate if certain predictors such as backers vary by season or month the kickstarter was launched in. Two new columns `month` and `season` will be created."
   ]
  },
  {
   "cell_type": "code",
   "execution_count": 67,
   "metadata": {},
   "outputs": [],
   "source": [
    "def season(x):\n",
    "    season_dict = {1: \"Winter\", 2: \"Winter\", 3: \"Spring\", 4: \"Spring\", 5: \"Spring\", \n",
    "                   6: \"Summer\", 7: \"Summer\", 8: \"Summer\", 9: \"Fall\", 10: \"Fall\",\n",
    "                   11: \"Fall\", 12: \"Winter\"}\n",
    "    return season_dict[x.month]\n",
    "\n",
    "def month_name(x):\n",
    "    month_dict = {1: \"January\", 2: \"February\", 3: \"March\", 4: \"April\", 5: \"May\", \n",
    "                   6: \"June\", 7: \"July\", 8: \"August\", 9: \"September\", 10: \"October\",\n",
    "                   11: \"November\", 12: \"December\"}\n",
    "    return month_dict[x.month]\n",
    "\n",
    "kickstarter[\"season\"] = kickstarter[\"launched\"].apply(season)\n",
    "kickstarter[\"month\"] = kickstarter[\"launched\"].apply(month_name)\n",
    "\n",
    "assert list(kickstarter[\"season\"].unique()) == [\"Fall\", \"Winter\", \"Spring\", \"Summer\"]\n",
    "assert list(kickstarter[\"month\"].unique()) == ['September', 'January', 'March', 'February', \n",
    "                                               'December', 'April','October', 'August', 'May', \n",
    "                                               'November', 'July', 'June']"
   ]
  },
  {
   "cell_type": "markdown",
   "metadata": {},
   "source": [
    "We will also have to create a column that encodes the number as an integer for the purposes of modeling and visualization"
   ]
  },
  {
   "cell_type": "code",
   "execution_count": 69,
   "metadata": {},
   "outputs": [],
   "source": [
    "def month_number(x):\n",
    "    return x.month\n",
    "\n",
    "def season_number(x):\n",
    "    season_to_number = {\"Winter\": 1, \"Spring\": 2, \"Summer\": 3, \"Fall\": 4}\n",
    "    return season_to_number[x]\n",
    "\n",
    "kickstarter[\"month_number\"] = kickstarter[\"launched\"].apply(month_number).astype(np.object)\n",
    "kickstarter[\"season_number\"] = kickstarter[\"season\"].apply(season_number).astype(np.object)\n",
    "\n",
    "assert sorted(list(kickstarter[\"month_number\"].unique())) == [i for i in range(1,13)]\n",
    "assert sorted(list(kickstarter[\"season_number\"].unique())) == [i for i in range(1,5)]"
   ]
  },
  {
   "cell_type": "markdown",
   "metadata": {},
   "source": [
    "We have categorical features that we would like to use in constructing our model. Becuase we cannot pass in strings to the model, we must create dummy variables."
   ]
  },
  {
   "cell_type": "markdown",
   "metadata": {},
   "source": [
    "# Exporting Our Cleaning and Transformed Data Set"
   ]
  },
  {
   "cell_type": "code",
   "execution_count": 73,
   "metadata": {},
   "outputs": [],
   "source": [
    "kickstarter.to_csv(\"/data/royzawadzki/kickstarter.csv\")"
   ]
  }
 ],
 "metadata": {
  "kernelspec": {
   "display_name": "Python 3",
   "language": "python",
   "name": "python3"
  },
  "language_info": {
   "codemirror_mode": {
    "name": "ipython",
    "version": 3
   },
   "file_extension": ".py",
   "mimetype": "text/x-python",
   "name": "python",
   "nbconvert_exporter": "python",
   "pygments_lexer": "ipython3",
   "version": "3.6.3"
  }
 },
 "nbformat": 4,
 "nbformat_minor": 2
}
