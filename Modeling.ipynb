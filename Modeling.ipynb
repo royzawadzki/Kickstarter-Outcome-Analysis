{
 "cells": [
  {
   "cell_type": "markdown",
   "metadata": {},
   "source": [
    "# Imports"
   ]
  },
  {
   "cell_type": "code",
   "execution_count": 1,
   "metadata": {},
   "outputs": [],
   "source": [
    "import numpy as np\n",
    "import pandas as pd\n",
    "%matplotlib inline\n",
    "import matplotlib.pyplot as plt\n",
    "import seaborn as sns\n",
    "import sklearn.model_selection\n",
    "import seaborn as sns"
   ]
  },
  {
   "cell_type": "code",
   "execution_count": 2,
   "metadata": {},
   "outputs": [],
   "source": [
    "kickstarter = pd.read_csv(\"/data/royzawadzki/kickstarter.csv\", parse_dates = [\"deadline\", \"launched\"])"
   ]
  },
  {
   "cell_type": "code",
   "execution_count": 3,
   "metadata": {},
   "outputs": [
    {
     "data": {
      "text/plain": [
       "Unnamed: 0                  int64\n",
       "ID                          int64\n",
       "name                       object\n",
       "category                   object\n",
       "main_category              object\n",
       "currency                   object\n",
       "deadline           datetime64[ns]\n",
       "goal                      float64\n",
       "launched           datetime64[ns]\n",
       "pledged                   float64\n",
       "state                      object\n",
       "backers                     int64\n",
       "country                    object\n",
       "usd pledged               float64\n",
       "goal_log                  float64\n",
       "backers_log               float64\n",
       "usd pledged_log           float64\n",
       "duration                    int64\n",
       "season                     object\n",
       "month                      object\n",
       "month_number                int64\n",
       "season_number               int64\n",
       "dtype: object"
      ]
     },
     "execution_count": 3,
     "metadata": {},
     "output_type": "execute_result"
    }
   ],
   "source": [
    "kickstarter.dtypes"
   ]
  },
  {
   "cell_type": "markdown",
   "metadata": {},
   "source": [
    "# Features"
   ]
  },
  {
   "cell_type": "code",
   "execution_count": 4,
   "metadata": {},
   "outputs": [],
   "source": [
    "X = kickstarter[[\"category\", \"main_category\", \"country\", \"goal_log\",\n",
    "                       \"backers_log\", \"usd pledged_log\", \"duration\", \"season\", \"month\"]]\n",
    "assert list(X.columns) == [\"category\", \"main_category\", \"country\", \"goal_log\",\n",
    "                       \"backers_log\", \"usd pledged_log\", \"duration\", \"season\", \"month\"]"
   ]
  },
  {
   "cell_type": "markdown",
   "metadata": {},
   "source": [
    "### Creation of Dummy Variables for the Feature Array"
   ]
  },
  {
   "cell_type": "code",
   "execution_count": 5,
   "metadata": {},
   "outputs": [],
   "source": [
    "columns_before_dummies = len(X.columns)\n",
    "dummies_X = pd.get_dummies(X, columns = [\"category\", \"main_category\",\"country\", \"season\", \"month\"], drop_first = True)\n",
    "dummies_X = dummies_X.drop([\"goal_log\", \"backers_log\", \"usd pledged_log\", \"duration\"], axis = 1)\n",
    "X = pd.concat([X, dummies_X], axis = 1)\n",
    "X = X.drop(columns = [\"category\", \"main_category\",\"country\", \"usd pledged_log\", \"backers_log\", \"season\", \"month\"], axis = 1)"
   ]
  },
  {
   "cell_type": "markdown",
   "metadata": {},
   "source": [
    "I decided to drop money raised and backers from the features array because it defeats the purpose of this model, which is to predict success or failure before the kickstarter ends. Knowing money raised and total backers at the end gives us part of the answer and is unrealistic for our model to know if used in real time. This would explain why including it gave an accuracy of 0.9361496507019375, which is fairly high."
   ]
  },
  {
   "cell_type": "code",
   "execution_count": 6,
   "metadata": {},
   "outputs": [],
   "source": [
    "num_category = len(kickstarter[\"category\"].unique())\n",
    "num_maincat = len(kickstarter[\"main_category\"].unique())\n",
    "num_country = len(kickstarter[\"country\"].unique())\n",
    "num_seasons = 4\n",
    "num_months = 12\n",
    "num_cols_numeric = 2\n",
    "assert len(X.columns) == (num_cols_numeric + num_category - 1 + num_maincat - 1 + num_country - 1 +\n",
    "                         num_seasons - 1 + num_months -1)"
   ]
  },
  {
   "cell_type": "code",
   "execution_count": 7,
   "metadata": {},
   "outputs": [
    {
     "data": {
      "text/html": [
       "<div>\n",
       "<style scoped>\n",
       "    .dataframe tbody tr th:only-of-type {\n",
       "        vertical-align: middle;\n",
       "    }\n",
       "\n",
       "    .dataframe tbody tr th {\n",
       "        vertical-align: top;\n",
       "    }\n",
       "\n",
       "    .dataframe thead th {\n",
       "        text-align: right;\n",
       "    }\n",
       "</style>\n",
       "<table border=\"1\" class=\"dataframe\">\n",
       "  <thead>\n",
       "    <tr style=\"text-align: right;\">\n",
       "      <th></th>\n",
       "      <th>goal_log</th>\n",
       "      <th>duration</th>\n",
       "      <th>category_Academic</th>\n",
       "      <th>category_Accessories</th>\n",
       "      <th>category_Action</th>\n",
       "      <th>category_Animals</th>\n",
       "      <th>category_Animation</th>\n",
       "      <th>category_Anthologies</th>\n",
       "      <th>category_Apparel</th>\n",
       "      <th>category_Apps</th>\n",
       "      <th>...</th>\n",
       "      <th>month_December</th>\n",
       "      <th>month_February</th>\n",
       "      <th>month_January</th>\n",
       "      <th>month_July</th>\n",
       "      <th>month_June</th>\n",
       "      <th>month_March</th>\n",
       "      <th>month_May</th>\n",
       "      <th>month_November</th>\n",
       "      <th>month_October</th>\n",
       "      <th>month_September</th>\n",
       "    </tr>\n",
       "  </thead>\n",
       "  <tbody>\n",
       "    <tr>\n",
       "      <th>0</th>\n",
       "      <td>10.308953</td>\n",
       "      <td>59</td>\n",
       "      <td>0</td>\n",
       "      <td>0</td>\n",
       "      <td>0</td>\n",
       "      <td>0</td>\n",
       "      <td>0</td>\n",
       "      <td>0</td>\n",
       "      <td>0</td>\n",
       "      <td>0</td>\n",
       "      <td>...</td>\n",
       "      <td>0</td>\n",
       "      <td>0</td>\n",
       "      <td>0</td>\n",
       "      <td>0</td>\n",
       "      <td>0</td>\n",
       "      <td>0</td>\n",
       "      <td>0</td>\n",
       "      <td>0</td>\n",
       "      <td>0</td>\n",
       "      <td>1</td>\n",
       "    </tr>\n",
       "    <tr>\n",
       "      <th>1</th>\n",
       "      <td>10.714418</td>\n",
       "      <td>44</td>\n",
       "      <td>0</td>\n",
       "      <td>0</td>\n",
       "      <td>0</td>\n",
       "      <td>0</td>\n",
       "      <td>0</td>\n",
       "      <td>0</td>\n",
       "      <td>0</td>\n",
       "      <td>0</td>\n",
       "      <td>...</td>\n",
       "      <td>0</td>\n",
       "      <td>0</td>\n",
       "      <td>1</td>\n",
       "      <td>0</td>\n",
       "      <td>0</td>\n",
       "      <td>0</td>\n",
       "      <td>0</td>\n",
       "      <td>0</td>\n",
       "      <td>0</td>\n",
       "      <td>0</td>\n",
       "    </tr>\n",
       "    <tr>\n",
       "      <th>2</th>\n",
       "      <td>8.517193</td>\n",
       "      <td>29</td>\n",
       "      <td>0</td>\n",
       "      <td>0</td>\n",
       "      <td>0</td>\n",
       "      <td>0</td>\n",
       "      <td>0</td>\n",
       "      <td>0</td>\n",
       "      <td>0</td>\n",
       "      <td>0</td>\n",
       "      <td>...</td>\n",
       "      <td>0</td>\n",
       "      <td>0</td>\n",
       "      <td>0</td>\n",
       "      <td>0</td>\n",
       "      <td>0</td>\n",
       "      <td>1</td>\n",
       "      <td>0</td>\n",
       "      <td>0</td>\n",
       "      <td>0</td>\n",
       "      <td>0</td>\n",
       "    </tr>\n",
       "    <tr>\n",
       "      <th>3</th>\n",
       "      <td>10.819778</td>\n",
       "      <td>34</td>\n",
       "      <td>0</td>\n",
       "      <td>0</td>\n",
       "      <td>0</td>\n",
       "      <td>0</td>\n",
       "      <td>0</td>\n",
       "      <td>0</td>\n",
       "      <td>0</td>\n",
       "      <td>0</td>\n",
       "      <td>...</td>\n",
       "      <td>0</td>\n",
       "      <td>1</td>\n",
       "      <td>0</td>\n",
       "      <td>0</td>\n",
       "      <td>0</td>\n",
       "      <td>0</td>\n",
       "      <td>0</td>\n",
       "      <td>0</td>\n",
       "      <td>0</td>\n",
       "      <td>0</td>\n",
       "    </tr>\n",
       "    <tr>\n",
       "      <th>4</th>\n",
       "      <td>6.907755</td>\n",
       "      <td>19</td>\n",
       "      <td>0</td>\n",
       "      <td>0</td>\n",
       "      <td>0</td>\n",
       "      <td>0</td>\n",
       "      <td>0</td>\n",
       "      <td>0</td>\n",
       "      <td>0</td>\n",
       "      <td>0</td>\n",
       "      <td>...</td>\n",
       "      <td>1</td>\n",
       "      <td>0</td>\n",
       "      <td>0</td>\n",
       "      <td>0</td>\n",
       "      <td>0</td>\n",
       "      <td>0</td>\n",
       "      <td>0</td>\n",
       "      <td>0</td>\n",
       "      <td>0</td>\n",
       "      <td>0</td>\n",
       "    </tr>\n",
       "  </tbody>\n",
       "</table>\n",
       "<p>5 rows × 209 columns</p>\n",
       "</div>"
      ],
      "text/plain": [
       "    goal_log  duration  category_Academic  category_Accessories  \\\n",
       "0  10.308953        59                  0                     0   \n",
       "1  10.714418        44                  0                     0   \n",
       "2   8.517193        29                  0                     0   \n",
       "3  10.819778        34                  0                     0   \n",
       "4   6.907755        19                  0                     0   \n",
       "\n",
       "   category_Action  category_Animals  category_Animation  \\\n",
       "0                0                 0                   0   \n",
       "1                0                 0                   0   \n",
       "2                0                 0                   0   \n",
       "3                0                 0                   0   \n",
       "4                0                 0                   0   \n",
       "\n",
       "   category_Anthologies  category_Apparel  category_Apps       ...         \\\n",
       "0                     0                 0              0       ...          \n",
       "1                     0                 0              0       ...          \n",
       "2                     0                 0              0       ...          \n",
       "3                     0                 0              0       ...          \n",
       "4                     0                 0              0       ...          \n",
       "\n",
       "   month_December  month_February  month_January  month_July  month_June  \\\n",
       "0               0               0              0           0           0   \n",
       "1               0               0              1           0           0   \n",
       "2               0               0              0           0           0   \n",
       "3               0               1              0           0           0   \n",
       "4               1               0              0           0           0   \n",
       "\n",
       "   month_March  month_May  month_November  month_October  month_September  \n",
       "0            0          0               0              0                1  \n",
       "1            0          0               0              0                0  \n",
       "2            1          0               0              0                0  \n",
       "3            0          0               0              0                0  \n",
       "4            0          0               0              0                0  \n",
       "\n",
       "[5 rows x 209 columns]"
      ]
     },
     "execution_count": 7,
     "metadata": {},
     "output_type": "execute_result"
    }
   ],
   "source": [
    "X.head()"
   ]
  },
  {
   "cell_type": "markdown",
   "metadata": {},
   "source": [
    "# Target"
   ]
  },
  {
   "cell_type": "code",
   "execution_count": 8,
   "metadata": {},
   "outputs": [],
   "source": [
    "y = kickstarter[[\"state\"]]"
   ]
  },
  {
   "cell_type": "markdown",
   "metadata": {},
   "source": [
    "Before using our model, the column that encodes success and failure transformed to be integers. In this case, \"Failed\" = 0 and \"Success\" = 1."
   ]
  },
  {
   "cell_type": "code",
   "execution_count": 9,
   "metadata": {},
   "outputs": [],
   "source": [
    "def state_to_int(x):\n",
    "    if x == \"successful\":\n",
    "        return 1\n",
    "    elif x == \"failed\":\n",
    "        return 0\n",
    "\n",
    "y = y[\"state\"].apply(state_to_int)\n",
    "ysum = y.sum()\n",
    "assert list(y.unique()) == [0,1]\n",
    "assert ysum == len(kickstarter[kickstarter[\"state\"] == \"successful\"])"
   ]
  },
  {
   "cell_type": "markdown",
   "metadata": {},
   "source": [
    "# Train/test Split"
   ]
  },
  {
   "cell_type": "markdown",
   "metadata": {},
   "source": [
    "We will be using a 70%-30% train to test split"
   ]
  },
  {
   "cell_type": "code",
   "execution_count": 10,
   "metadata": {},
   "outputs": [],
   "source": [
    "X_train, X_test, y_train, y_test = sklearn.model_selection.train_test_split(X, y, test_size = .3, train_size = .7, random_state = 15)"
   ]
  },
  {
   "cell_type": "markdown",
   "metadata": {},
   "source": [
    "# Model 1: Logistic Regression"
   ]
  },
  {
   "cell_type": "code",
   "execution_count": 19,
   "metadata": {},
   "outputs": [],
   "source": [
    "from sklearn.linear_model import LogisticRegression\n",
    "from sklearn.model_selection import GridSearchCV\n",
    "from sklearn.metrics import confusion_matrix\n",
    "from sklearn.metrics import classification_report"
   ]
  },
  {
   "cell_type": "markdown",
   "metadata": {},
   "source": [
    "### Creation of Model, Hyperparameter Tuning, Cross Validation, and Prediction"
   ]
  },
  {
   "cell_type": "markdown",
   "metadata": {},
   "source": [
    "**Note: the following cells may take more than a few minutes to run**"
   ]
  },
  {
   "cell_type": "code",
   "execution_count": 222,
   "metadata": {},
   "outputs": [],
   "source": [
    "#Creating parameter grid of C for grid search\n",
    "c_space = [0.001, 0.01, 0.1, 1, 10, 100, 1000]\n",
    "param_grid = {\"C\": c_space}\n",
    "\n",
    "#Grid search and training\n",
    "logreg = LogisticRegression()\n",
    "logreg_cv = GridSearchCV(logreg, param_grid, cv = 5)\n",
    "logreg_cv.fit(X_train,y_train)\n",
    "\n",
    "#Predicting the Data\n",
    "y_pred_lr = logreg_cv.predict(X_test)"
   ]
  },
  {
   "cell_type": "code",
   "execution_count": 223,
   "metadata": {},
   "outputs": [
    {
     "name": "stdout",
     "output_type": "stream",
     "text": [
      "Tuned Logistic Regression Parameter: {'C': 1}\n",
      "Best score is 0.6558681560455039\n"
     ]
    }
   ],
   "source": [
    "print(\"Tuned Logistic Regression Parameter: {}\".format(logreg_cv.best_params_)) \n",
    "print(\"Best score is {}\".format(logreg_cv.best_score_))"
   ]
  },
  {
   "cell_type": "markdown",
   "metadata": {},
   "source": [
    "Our accuracy is not great: only about 15% higher than guessing success or failure by flipping a coin. In addition, the best parameter we found for $C$ out of our values used for hyperparameter tuning was 10. $C$ is the regularization parameter which applies a penalty to increasing the magnitude of paramater values in order to reduce overfitting."
   ]
  },
  {
   "cell_type": "markdown",
   "metadata": {},
   "source": [
    "### Visualization of Probabilities Computed by the Logistic Regression"
   ]
  },
  {
   "cell_type": "code",
   "execution_count": 224,
   "metadata": {},
   "outputs": [
    {
     "data": {
      "image/png": "[encoded data removed]",
      "text/plain": [
       "<matplotlib.figure.Figure at 0x7f484150f3c8>"
      ]
     },
     "metadata": {},
     "output_type": "display_data"
    }
   ],
   "source": [
    "probs = logreg_cv.predict_proba(X_test)\n",
    "plt.hist(probs)\n",
    "#plt.legend()\n",
    "plt.show()"
   ]
  },
  {
   "cell_type": "markdown",
   "metadata": {},
   "source": [
    "We can see in the above histogram that the majority of the probabilities that the logistic regression are around .5. This means that the model is having trouble with assigning high and low probabilities to the probability of success (blue) or the probability of failure (orange) for many of the observations."
   ]
  },
  {
   "cell_type": "markdown",
   "metadata": {},
   "source": [
    "### Confusion Matrix and Classification Report"
   ]
  },
  {
   "cell_type": "code",
   "execution_count": 225,
   "metadata": {},
   "outputs": [
    {
     "data": {
      "image/png": "[encoded data removed]",
      "text/plain": [
       "<matplotlib.figure.Figure at 0x7f482133fbe0>"
      ]
     },
     "metadata": {},
     "output_type": "display_data"
    }
   ],
   "source": [
    "confusion_matrix_logistic = confusion_matrix(y_test, y_pred_lr)\n",
    "sns.heatmap(confusion_matrix_logistic.T, square=True, annot=True, fmt='d', cbar=False)\n",
    "plt.xlabel(\"True Outcome\")\n",
    "plt.ylabel(\"Predicted Outcome\")\n",
    "plt.show()"
   ]
  },
  {
   "cell_type": "code",
   "execution_count": 226,
   "metadata": {},
   "outputs": [
    {
     "name": "stdout",
     "output_type": "stream",
     "text": [
      "             precision    recall  f1-score   support\n",
      "\n",
      "          0       0.67      0.70      0.68     44068\n",
      "          1       0.64      0.61      0.63     39304\n",
      "\n",
      "avg / total       0.66      0.66      0.66     83372\n",
      "\n"
     ]
    }
   ],
   "source": [
    "print(classification_report(y_test, y_pred_lr))"
   ]
  },
  {
   "cell_type": "markdown",
   "metadata": {},
   "source": [
    "Overall, our model was barely satisfactory. This may be due to the seemingly random nature of the success Kickstarter Campaigns that adds difficultly in generalizing from the predictors that were avaliable. The limiting factor in the success of this model was most likely that there is a lot more that goes into the success of a kickstarter that we do not have such as how it was advertised."
   ]
  },
  {
   "cell_type": "markdown",
   "metadata": {},
   "source": [
    "# Model 2: Random Forest"
   ]
  },
  {
   "cell_type": "code",
   "execution_count": 15,
   "metadata": {},
   "outputs": [],
   "source": [
    "from sklearn.ensemble import RandomForestClassifier\n",
    "from sklearn.model_selection import cross_val_score\n",
    "from sklearn.metrics import r2_score"
   ]
  },
  {
   "cell_type": "markdown",
   "metadata": {},
   "source": [
    "### Samping from the Original Data and Test/Train Splitting the Sample"
   ]
  },
  {
   "cell_type": "markdown",
   "metadata": {},
   "source": [
    "Due to the immense running time of fitting the best random forest model using full dataset, we will use a sample from the original dataset to train and test the data."
   ]
  },
  {
   "cell_type": "code",
   "execution_count": 24,
   "metadata": {},
   "outputs": [],
   "source": [
    "kickstarter_sample = kickstarter.sample(80000)\n",
    "\n",
    "X_samp = kickstarter_sample[[\"category\", \"main_category\", \"country\", \"goal_log\",\n",
    "                       \"backers_log\", \"usd pledged_log\", \"duration\"]]\n",
    "\n",
    "dummies_X_samp = pd.get_dummies(X_samp, columns = [\"category\", \"main_category\",\"country\"], drop_first = True)\n",
    "dummies_X_samp = dummies_X_samp.drop([\"goal_log\", \"backers_log\", \"usd pledged_log\", \"duration\"], axis = 1)\n",
    "X_samp = pd.concat([X_samp, dummies_X_samp], axis = 1)\n",
    "X_samp = X_samp.drop(columns = [\"category\", \"main_category\",\"country\", \"usd pledged_log\", \"backers_log\"], axis = 1)\n",
    "\n",
    "y_samp = kickstarter_sample[[\"state\"]]\n",
    "y_samp = y_samp[\"state\"].apply(state_to_int)\n",
    "\n",
    "X_train_samp, X_test_samp, y_train_samp, y_test_samp = sklearn.model_selection.train_test_split(X_samp, y_samp, test_size = .3, train_size = .7, random_state = 15)"
   ]
  },
  {
   "cell_type": "markdown",
   "metadata": {},
   "source": [
    "## Random Forest Model with no Hyperparameter Tuning and Using Sample"
   ]
  },
  {
   "cell_type": "markdown",
   "metadata": {},
   "source": [
    "Since hyperparameter tuning was taking too long to run, we are not constructing our model with hyperparameters."
   ]
  },
  {
   "cell_type": "markdown",
   "metadata": {},
   "source": [
    "**Note: the following two cells will take more than a few minutes to run**"
   ]
  },
  {
   "cell_type": "code",
   "execution_count": 25,
   "metadata": {},
   "outputs": [],
   "source": [
    "random_forest_no_hyper = RandomForestClassifier(n_estimators=300, random_state=12)\n",
    "random_forest_no_hyper.fit(X_train_samp, y_train_samp)\n",
    "ypred_rf_no_hyper = random_forest_no_hyper.predict(X_test_samp)"
   ]
  },
  {
   "cell_type": "code",
   "execution_count": 27,
   "metadata": {},
   "outputs": [
    {
     "name": "stdout",
     "output_type": "stream",
     "text": [
      "Mean: 0.6181875611241702, Standard Deviation: 0.002743225489291695\n"
     ]
    }
   ],
   "source": [
    "cv_score_samp = cross_val_score(random_forest_no_hyper, X_samp, y_samp, cv=5)\n",
    "print(\"Mean: {0}, Standard Deviation: {1}\".format(cv_score_samp.mean(), cv_score_samp.std()))"
   ]
  },
  {
   "cell_type": "markdown",
   "metadata": {},
   "source": [
    "The accuracy is relatively similar to the logistic regression. The difference in the accuracies can be explained by the fact that the random forest model was trained with a sample of the data as opposed to the full dataset."
   ]
  },
  {
   "cell_type": "code",
   "execution_count": 36,
   "metadata": {},
   "outputs": [
    {
     "data": {
      "text/html": [
       "<div>\n",
       "<style scoped>\n",
       "    .dataframe tbody tr th:only-of-type {\n",
       "        vertical-align: middle;\n",
       "    }\n",
       "\n",
       "    .dataframe tbody tr th {\n",
       "        vertical-align: top;\n",
       "    }\n",
       "\n",
       "    .dataframe thead th {\n",
       "        text-align: right;\n",
       "    }\n",
       "</style>\n",
       "<table border=\"1\" class=\"dataframe\">\n",
       "  <thead>\n",
       "    <tr style=\"text-align: right;\">\n",
       "      <th></th>\n",
       "      <th>feature</th>\n",
       "      <th>importance</th>\n",
       "    </tr>\n",
       "  </thead>\n",
       "  <tbody>\n",
       "    <tr>\n",
       "      <th>0</th>\n",
       "      <td>goal_log</td>\n",
       "      <td>0.478753</td>\n",
       "    </tr>\n",
       "    <tr>\n",
       "      <th>1</th>\n",
       "      <td>duration</td>\n",
       "      <td>0.264157</td>\n",
       "    </tr>\n",
       "    <tr>\n",
       "      <th>194</th>\n",
       "      <td>country_US</td>\n",
       "      <td>0.010485</td>\n",
       "    </tr>\n",
       "    <tr>\n",
       "      <th>169</th>\n",
       "      <td>main_category_Music</td>\n",
       "      <td>0.009865</td>\n",
       "    </tr>\n",
       "    <tr>\n",
       "      <th>182</th>\n",
       "      <td>country_GB</td>\n",
       "      <td>0.008248</td>\n",
       "    </tr>\n",
       "    <tr>\n",
       "      <th>137</th>\n",
       "      <td>category_Tabletop Games</td>\n",
       "      <td>0.007870</td>\n",
       "    </tr>\n",
       "    <tr>\n",
       "      <th>172</th>\n",
       "      <td>main_category_Technology</td>\n",
       "      <td>0.006501</td>\n",
       "    </tr>\n",
       "    <tr>\n",
       "      <th>176</th>\n",
       "      <td>country_CA</td>\n",
       "      <td>0.006327</td>\n",
       "    </tr>\n",
       "    <tr>\n",
       "      <th>149</th>\n",
       "      <td>category_Video Games</td>\n",
       "      <td>0.005143</td>\n",
       "    </tr>\n",
       "    <tr>\n",
       "      <th>9</th>\n",
       "      <td>category_Apps</td>\n",
       "      <td>0.004829</td>\n",
       "    </tr>\n",
       "  </tbody>\n",
       "</table>\n",
       "</div>"
      ],
      "text/plain": [
       "                      feature  importance\n",
       "0                    goal_log    0.478753\n",
       "1                    duration    0.264157\n",
       "194                country_US    0.010485\n",
       "169       main_category_Music    0.009865\n",
       "182                country_GB    0.008248\n",
       "137   category_Tabletop Games    0.007870\n",
       "172  main_category_Technology    0.006501\n",
       "176                country_CA    0.006327\n",
       "149      category_Video Games    0.005143\n",
       "9               category_Apps    0.004829"
      ]
     },
     "execution_count": 36,
     "metadata": {},
     "output_type": "execute_result"
    }
   ],
   "source": [
    "features = pd.DataFrame({'feature': X_samp.columns, 'importance': random_forest_no_hyper.feature_importances_})\n",
    "\n",
    "features.sort_values('importance', ascending=False, inplace=True)\n",
    "features[0:10]"
   ]
  },
  {
   "cell_type": "markdown",
   "metadata": {},
   "source": [
    "The most important feature was goal_log followed by duration."
   ]
  },
  {
   "cell_type": "code",
   "execution_count": 39,
   "metadata": {},
   "outputs": [
    {
     "data": {
      "image/png": "[encoded data removed]",
      "text/plain": [
       "<matplotlib.figure.Figure at 0x7ff4944bb6a0>"
      ]
     },
     "metadata": {},
     "output_type": "display_data"
    }
   ],
   "source": [
    "confusion_matrix_rfno = confusion_matrix(y_test_samp, ypred_rf_no_hyper)\n",
    "sns.heatmap(confusion_matrix_rfno.T, square=True, annot=True, fmt='d', cbar=False)\n",
    "plt.xlabel(\"True Outcome\")\n",
    "plt.ylabel(\"Predicted Outcome\")\n",
    "plt.show()"
   ]
  },
  {
   "cell_type": "code",
   "execution_count": 42,
   "metadata": {},
   "outputs": [
    {
     "name": "stdout",
     "output_type": "stream",
     "text": [
      "             precision    recall  f1-score   support\n",
      "\n",
      "          0       0.63      0.65      0.64     12596\n",
      "          1       0.60      0.58      0.59     11404\n",
      "\n",
      "avg / total       0.62      0.62      0.62     24000\n",
      "\n"
     ]
    }
   ],
   "source": [
    "print(classification_report(y_test_samp, ypred_rf_no_hyper))"
   ]
  },
  {
   "cell_type": "markdown",
   "metadata": {},
   "source": [
    "Overall, this model was no better than our logistic regression which puts them to be tied for these purposes. Perhaps if we had more features than we already had such as information about their marketing or tier rewards one model would pull ahead of the other."
   ]
  }
 ],
 "metadata": {
  "kernelspec": {
   "display_name": "Python 3",
   "language": "python",
   "name": "python3"
  },
  "language_info": {
   "codemirror_mode": {
    "name": "ipython",
    "version": 3
   },
   "file_extension": ".py",
   "mimetype": "text/x-python",
   "name": "python",
   "nbconvert_exporter": "python",
   "pygments_lexer": "ipython3",
   "version": "3.6.3"
  }
 },
 "nbformat": 4,
 "nbformat_minor": 2
}
