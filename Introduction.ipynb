{
 "cells": [
  {
   "cell_type": "markdown",
   "metadata": {},
   "source": [
    "# Abstract"
   ]
  },
  {
   "cell_type": "markdown",
   "metadata": {},
   "source": [
    "Kickstarter is a platform for creators or companies to gain funding for their projects through crowdfunding on the Internet. This project attempts to predict whether a Kickstarter campaign would be successful or would fail. Through data analysis and visualization we found that different characteristics such as the goal and category of the campaign were distinctly different depending on whether the Kickstarter failed or succeeded. We fit two classification models, a Logistic Regression and a Random Forest, for purposes of making our predictions. Each model had the same accuracy at around 64%. Given the random nature in regards to the success of Kickstarters, this accuracy is satisfactory. Going forward, more predictor variables related to the marketing or donation rewards of the campaigns could improve clarity and prediction of outcome."
   ]
  },
  {
   "cell_type": "markdown",
   "metadata": {},
   "source": [
    "___"
   ]
  },
  {
   "cell_type": "markdown",
   "metadata": {},
   "source": [
    "# Background"
   ]
  },
  {
   "cell_type": "markdown",
   "metadata": {},
   "source": [
    "Kickstarter is a crowdfunding platform where people can pledge money to different projects, called campaigns, ranging from anything such as films, music, video games, and technology. These people who donate or pledge money are called backers who collectively give money until a goal set by the creator of the campaign. These people often back the project with the idea that if the goal is reached, the project will be carried out in full and they are able to buy it or use it in some way. If the Kickstarter fails, there is no guarantee that they will get their money back. Furthermore, there is time pressure to reach the goal as the fund raising period can only be of a finite length. This in mind, it is often critical to evaluate the viability of the kickstarter before giving one's money to the project.\n",
    "\n",
    "This project attempts to predict whether a Kickstarter, given certain characteristics such as category, will be successful or not. \n",
    "\n",
    "Each observation in the dataset is a Kickstarter campaign. The variables in the original dataset for each observation are as folows:\n",
    "* `ID` - the ID number of the campaign\n",
    "* `name` - the name of the campaign\n",
    "* `category` - the category of the campaign\n",
    "* `main_category` - the main category of the campaign\n",
    "* `currency` - the currency for the money raised\n",
    "* `deadline` - the date and time the campaign ended\n",
    "* `goal` - the goal set for the amount raised for the campaign\n",
    "* `launched` - the date and time the campaign began\n",
    "* `pledged` - at the time of data collection, the money the campaign raised\n",
    "* `state` - the outcome of the kickstarter at the time of data collection such as failed or cancelled\n",
    "* `backers` - at the time of data collection, how many backers the campaign had\n",
    "* `country` - country of origin of the kickstarter\n",
    "* `usd pledged` - money pledged in USD"
   ]
  },
  {
   "cell_type": "markdown",
   "metadata": {},
   "source": [
    "___"
   ]
  },
  {
   "cell_type": "markdown",
   "metadata": {},
   "source": [
    "# Table of Contents"
   ]
  },
  {
   "cell_type": "markdown",
   "metadata": {},
   "source": [
    "### Import and Cleaining.ipynb"
   ]
  },
  {
   "cell_type": "markdown",
   "metadata": {},
   "source": [
    "Importing and cleaning of the dataset as well as the creation of new columns."
   ]
  },
  {
   "cell_type": "markdown",
   "metadata": {},
   "source": [
    "### Exploratory Data Analysis.ipynb"
   ]
  },
  {
   "cell_type": "markdown",
   "metadata": {},
   "source": [
    "Data anaylsis and visualization of the cleaned and tranformed dataset."
   ]
  },
  {
   "cell_type": "markdown",
   "metadata": {},
   "source": [
    "### Modeling.ipynb"
   ]
  },
  {
   "cell_type": "markdown",
   "metadata": {},
   "source": [
    "Logistic regression and random forest modeling. Incudes model diagnostics and accuracies."
   ]
  },
  {
   "cell_type": "markdown",
   "metadata": {},
   "source": [
    "___"
   ]
  },
  {
   "cell_type": "markdown",
   "metadata": {},
   "source": [
    "# Citations"
   ]
  },
  {
   "cell_type": "markdown",
   "metadata": {},
   "source": [
    "To view more details and analysis of the dataset follow this link to view the kaggle page: https://www.kaggle.com/kemical/kickstarter-projects\n",
    "\n",
    "About Kickstarter: https://www.kickstarter.com/help/faq/kickstarter%20basics"
   ]
  }
 ],
 "metadata": {
  "kernelspec": {
   "display_name": "Python 3",
   "language": "python",
   "name": "python3"
  },
  "language_info": {
   "codemirror_mode": {
    "name": "ipython",
    "version": 3
   },
   "file_extension": ".py",
   "mimetype": "text/x-python",
   "name": "python",
   "nbconvert_exporter": "python",
   "pygments_lexer": "ipython3",
   "version": "3.6.3"
  }
 },
 "nbformat": 4,
 "nbformat_minor": 2
}
